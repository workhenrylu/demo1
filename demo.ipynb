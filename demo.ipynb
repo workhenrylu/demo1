{
  "nbformat": 4,
  "nbformat_minor": 0,
  "metadata": {
    "colab": {
      "name": "demo.ipynb",
      "provenance": [],
      "private_outputs": true,
      "collapsed_sections": [],
      "toc_visible": true
    },
    "kernelspec": {
      "name": "python3",
      "display_name": "Python 3"
    }
  },
  "cells": [
    {
      "cell_type": "code",
      "metadata": {
        "id": "cvbNKC1ibvk5"
      },
      "source": [
        "from sklearn.datasets import make_classification\n",
        "from imblearn.under_sampling import RandomUnderSampler\n",
        "X, y = make_classification(n_samples=500, n_features=2, n_informative=2,\n",
        "                            n_redundant=0, n_repeated=0, n_classes=3,\n",
        "                            n_clusters_per_class=1,\n",
        "                            weights=[0.01, 0.05, 0.94],\n",
        "                            class_sep=0.8, random_state=0)\n",
        "rus = RandomUnderSampler(random_state=0)\n",
        "X_resampled, y_resampled = rus.fit_resample(X, y)"
      ],
      "execution_count": null,
      "outputs": []
    },
    {
      "cell_type": "code",
      "metadata": {
        "id": "dLwOZOVznAni"
      },
      "source": [
        "import pandas as pd\n",
        "data = pd.read_csv('/content/test.csv')\n",
        "data.head()\n",
        "y = data[['Attrition']]\n",
        "x = data.iloc[:,23:]"
      ],
      "execution_count": null,
      "outputs": []
    },
    {
      "cell_type": "code",
      "metadata": {
        "id": "vaC8W4wIyrVp"
      },
      "source": [
        "data.shape"
      ],
      "execution_count": null,
      "outputs": []
    },
    {
      "cell_type": "code",
      "metadata": {
        "id": "n-3OlW9gzfMg"
      },
      "source": [
        ""
      ],
      "execution_count": null,
      "outputs": []
    },
    {
      "cell_type": "code",
      "metadata": {
        "id": "cMxTg-Q5pL6k"
      },
      "source": [
        "from imblearn.over_sampling import SMOTE\n",
        "\n",
        "sm = SMOTE(random_state=2)\n",
        "x1,y1 = sm.fit_resample(x, y)"
      ],
      "execution_count": null,
      "outputs": []
    },
    {
      "cell_type": "code",
      "metadata": {
        "id": "R0fw7Xgk0PmK"
      },
      "source": [
        "x.shape,x1.shape"
      ],
      "execution_count": null,
      "outputs": []
    },
    {
      "cell_type": "code",
      "metadata": {
        "id": "q5ONkTgW0T_Y"
      },
      "source": [
        ""
      ],
      "execution_count": null,
      "outputs": []
    },
    {
      "cell_type": "code",
      "metadata": {
        "id": "ceXmCU4edQMj"
      },
      "source": [
        "from sklearn.metrics import roc_curve, auc\n",
        "import matplotlib as mpl  \n",
        "import matplotlib.pyplot as plt\n",
        "\n",
        "def plot_roc(labels, predict_prob):\n",
        "    false_positive_rate,true_positive_rate,thresholds=roc_curve(labels, predict_prob)\n",
        "    roc_auc=auc(false_positive_rate, true_positive_rate)\n",
        "    plt.title('ROC')\n",
        "    plt.plot(false_positive_rate, true_positive_rate,'b',label='AUC = %0.4f'% roc_auc)\n",
        "    plt.legend(loc='lower right')\n",
        "    plt.plot([0,1],[0,1],'r--')\n",
        "    plt.ylabel('TPR')\n",
        "    plt.xlabel('FPR')"
      ],
      "execution_count": null,
      "outputs": []
    },
    {
      "cell_type": "code",
      "metadata": {
        "id": "4VLx85L1dgZy"
      },
      "source": [
        "%pip install pycurl"
      ],
      "execution_count": null,
      "outputs": []
    },
    {
      "cell_type": "code",
      "metadata": {
        "id": "-cRY-hTqENuj"
      },
      "source": [
        "import pycurl,sys,os,time\n",
        "\n",
        "class idctest:\n",
        "    def __init__(self):\n",
        "          self.contents = ''\n",
        "    def body_callback(self,buf):\n",
        "          self.contents = self.contents + buf\n",
        "\n",
        "def test_gzip(input_url):\n",
        "    t = idctest()\n",
        "    #gzip_test = file(\"gzip_test.txt\", 'w')\n",
        "    c = pycurl.Curl()\n",
        "    c.setopt(pycurl.WRITEFUNCTION,t.body_callback)\n",
        "    c.setopt(pycurl.ENCODING, 'gzip')\n",
        "    c.setopt(pycurl.URL,input_url)\n",
        "    c.setopt(pycurl.MAXREDIRS, 5)\n",
        "    c.perform()\n",
        "\n",
        "    http_code = c.getinfo(pycurl.HTTP_CODE)\n",
        "    dns_resolve = c.getinfo(pycurl.NAMELOOKUP_TIME)\n",
        "    http_conn_time = c.getinfo(pycurl.CONNECT_TIME)\n",
        "    http_pre_trans = c.getinfo(pycurl.PRETRANSFER_TIME)\n",
        "    http_start_trans = c.getinfo(pycurl.STARTTRANSFER_TIME)\n",
        "    http_total_time = c.getinfo(pycurl.TOTAL_TIME)\n",
        "    http_size_download = c.getinfo(pycurl.SIZE_DOWNLOAD)\n",
        "    http_header_size = c.getinfo(pycurl.HEADER_SIZE)\n",
        "    http_speed_downlaod = c.getinfo(pycurl.SPEED_DOWNLOAD)\n",
        "\n",
        "    print ('HTTP响应状态：%d' %http_code)\n",
        "    print ('DNS解析时间：%.2f ms' %(dns_resolve*1000))\n",
        "    print ('建立连接时间： %.2f ms' %(http_conn_time*1000))\n",
        "    print ('准备传输时间： %.2f ms' %(http_pre_trans*1000))\n",
        "    print (\"传输开始时间： %.2f ms\" %(http_start_trans*1000))\n",
        "    print (\"传输结束时间： %.2f ms\" %(http_total_time*1000))\n",
        "    print (\"下载数据包大小： %d bytes/s\" %http_size_download)\n",
        "    print (\"HTTP头大小： %d bytes/s\" %http_header_size)\n",
        "    print (\"平均下载速度： %d k/s\" %(http_speed_downlaod/1024))\n",
        "\n"
      ],
      "execution_count": null,
      "outputs": []
    },
    {
      "cell_type": "code",
      "metadata": {
        "id": "RZTWQaLpFpCg"
      },
      "source": [
        "class Solution:\n",
        "    def cutRope(self, number):\n",
        "        # write code here\n",
        "        res=1\n",
        "        if number<=1:\n",
        "            return 0\n",
        "        elif number<=2:\n",
        "            return 1\n",
        "        elif number<=3:\n",
        "            return 2\n",
        "        prod=[0,1,2,3]\n",
        "        for i in range(4,number+1):\n",
        "            max=0\n",
        "            for j in range(1,i//2+1):\n",
        "                pro=prod[j]*prod[i-j]\n",
        "                if pro>max:\n",
        "                    max=pro\n",
        "            prod.append(max)\n",
        "        return prod[number]"
      ],
      "execution_count": null,
      "outputs": []
    },
    {
      "cell_type": "code",
      "metadata": {
        "id": "E9oEfRI2a6sY"
      },
      "source": [
        "Solution().cutRope(9)"
      ],
      "execution_count": null,
      "outputs": []
    },
    {
      "cell_type": "code",
      "metadata": {
        "id": "_y65jmAga_IV"
      },
      "source": [
        ""
      ],
      "execution_count": null,
      "outputs": []
    }
  ]
}